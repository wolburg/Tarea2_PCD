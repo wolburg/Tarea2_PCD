{
 "cells": [
  {
   "cell_type": "markdown",
   "source": [
    "What are MLOps and Why Does it Matter?\n",
    "\n",
    "In the industrial revolution, he rises of physical machines required organizations to systematize. During the first tech boom, Agile systems helped organizations operationalize the product lifecycle and DevOps further optimized the production lifecycle and introduced a new element, that of big data.\n",
    "\n",
    "But What Is MLOps?\n",
    "It’s deeply collaborative in nature, designed to eliminate waste, automate as much as possible, and produce richer, more consistent insights with machine learning.\n",
    "\n",
    "MLOps brings business interest back to the forefront of your ML operations. It can help the Data scientists can work with the best way to the organization. \n",
    "\n",
    "Why Should My Organization Adopt MLOps?\n",
    "MLOps allows your data scientists freedom to do what they do best — find answers. Take business decisions off their plates, and they can build and deploy models that get your insights more quickly.\n",
    "MLOps follows a similar pattern to DevOps. The practices that drive a seamless integration between your development cycle and your overall operations process can also transform how your organization handles big data.\n",
    "What Problems Will MLOps solve?\n",
    "Adopting an MLOps approach could help your organization in the following ways:\n",
    "•\tYour operations team has the business knowledge, and your data science team understands the data.\n",
    "•\tMLOps puts your operations team at the forefront of new regulations and best practices. They can take ownership of regulatory processes while your data team concentrates on deploying creative models.\n",
    "•\tThe bottleneck that results from complicated, non-intuitive algorithms eases with a better division of expertise and bigger collaboration from operations and data teams. MLOps tightens the loop.\n"
   ],
   "metadata": {
    "collapsed": false
   },
   "id": "9e03b1d7c8de3a96"
  }
 ],
 "metadata": {
  "kernelspec": {
   "display_name": "Python 3",
   "language": "python",
   "name": "python3"
  },
  "language_info": {
   "codemirror_mode": {
    "name": "ipython",
    "version": 2
   },
   "file_extension": ".py",
   "mimetype": "text/x-python",
   "name": "python",
   "nbconvert_exporter": "python",
   "pygments_lexer": "ipython2",
   "version": "2.7.6"
  }
 },
 "nbformat": 4,
 "nbformat_minor": 5
}
